{
 "cells": [
  {
   "cell_type": "markdown",
   "metadata": {},
   "source": [
    "# How to Optimize Laptop for better productivity\n",
    "Lately, I have been experimenting with how to optimize my laptop to enhance my research productivity. Here are some considerations.\n",
    "## Which OS\n",
    "Follwoing choices are available:\n",
    "* Windows\n",
    "* Linux\n",
    "## Basic set up\n",
    "\n",
    "`sudo apt install git\n",
    "git config --global user.name  mbilal-haider\n",
    "git config --global user.email bilalalvi856@hotmail.com`\n",
    "\n",
    "I used the follwing code:"
   ]
  },
  {
   "cell_type": "code",
   "execution_count": 3,
   "metadata": {
    "collapsed": false
   },
   "outputs": [
    {
     "name": "stdout",
     "output_type": "stream",
     "text": [
      "2.975\n",
      "0.93908199855\n"
     ]
    }
   ],
   "source": [
    "import numpy as np\n",
    "a = np.asarray([2.2, 3.0, 4.5, 2.2])\n",
    "print(np.mean(a))\n",
    "print(np.std(a))"
   ]
  },
  {
   "cell_type": "code",
   "execution_count": null,
   "metadata": {
    "collapsed": true
   },
   "outputs": [],
   "source": []
  }
 ],
 "metadata": {
  "anaconda-cloud": {},
  "kernelspec": {
   "display_name": "Python [default]",
   "language": "python",
   "name": "python3"
  },
  "language_info": {
   "codemirror_mode": {
    "name": "ipython",
    "version": 3
   },
   "file_extension": ".py",
   "mimetype": "text/x-python",
   "name": "python",
   "nbconvert_exporter": "python",
   "pygments_lexer": "ipython3",
   "version": "3.5.2"
  }
 },
 "nbformat": 4,
 "nbformat_minor": 1
}
